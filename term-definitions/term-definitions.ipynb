{
 "cells": [
  {
   "cell_type": "markdown",
   "metadata": {},
   "source": [
    "# Term Definitions\n",
    "##### short and sweet definitions by [Navie Narula](https://github.com/navierula)"
   ]
  },
  {
   "cell_type": "markdown",
   "metadata": {},
   "source": [
    "### Linked Lists\n",
    "\n",
    "A <b>linked list</b> is a linear data structure in which each node contains a value and a reference to the next node. The first node of a linked list is its head, used as an entry point into the list itself. If a list is emty, the head points to a null reference. Similarly, if a list is not empty, its last element also points to a null reference. Linked lists are flexible data structures to use when it comes to insertion or deletion of elements with a runtime of O(1). They can handle searching and access more so linearly with a runtime of O(n)."
   ]
  },
  {
   "cell_type": "markdown",
   "metadata": {},
   "source": [
    "### Stacks\n",
    "\n",
    "A <b>stack</b> is a data structure that follows the LIFO (last-in-first-out) rule. Items that are added, or pushed, onto a stack are placed at the end (last-in). Items that are removed, or popped, from a stack are also removed from the end (first-out). This means that elements can only be added and removed from the top of the stack, making it ideal for insertion and deletion with a runtime of O(1), but not ideal for search or access operations with a runtime of O(n)."
   ]
  },
  {
   "cell_type": "markdown",
   "metadata": {},
   "source": [
    "### Hash Maps\n",
    "\n",
    "A <b>hash map</b> is a data structure that mimics a dictionary, having the ability to map keys to values. Since this is the case, search and access on average are constant time with a runtime of O(1). Insertion or deletion also act the same way, but in the worst case, the runtime will be linear. The hash map is an ideal data structure for search-related tasks or item storage and organization."
   ]
  },
  {
   "cell_type": "markdown",
   "metadata": {},
   "source": [
    "### Trees\n",
    "\n",
    "A <b>tree</b> is a nonlinear data structure consisting of nodes. The node at the top level is referred to as the root and every following node is connected by an edge from one node to another, resulting in a parent-child relationship. Nodes at the last level of a tree are called leaves. Many types of trees exist including general trees, binary trees, and B+ trees. Seeing as this is the case, they can be used for a variety of tasks including allocation, query optimization, and even for decision pathways in machine learning tasks."
   ]
  },
  {
   "cell_type": "markdown",
   "metadata": {},
   "source": [
    "### Heaps\n",
    "\n",
    "A <b>heap</b> is a nonlinear data structure that is often presented as a tree. A tree is specifically considered a max heap if each parent node is greater than or equal to its child. If each parent node is less than or equal to its child, the tree is considered a min heap. The top node of a heap is referred to as its root. Heaps are ideally used for insertion and deletion with logarithmic runtimes; however, they are not as ideal for search with linear runtimes."
   ]
  },
  {
   "cell_type": "markdown",
   "metadata": {},
   "source": [
    "____________________\n",
    "Need a visual? I love using this [website](https://www.cs.usfca.edu/~galles/visualization/Algorithms.html) to help me out!"
   ]
  }
 ],
 "metadata": {
  "kernelspec": {
   "display_name": "Python 3",
   "language": "python",
   "name": "python3"
  },
  "language_info": {
   "codemirror_mode": {
    "name": "ipython",
    "version": 3
   },
   "file_extension": ".py",
   "mimetype": "text/x-python",
   "name": "python",
   "nbconvert_exporter": "python",
   "pygments_lexer": "ipython3",
   "version": "3.6.3"
  }
 },
 "nbformat": 4,
 "nbformat_minor": 2
}
